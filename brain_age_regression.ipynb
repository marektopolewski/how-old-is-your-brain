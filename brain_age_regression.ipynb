{
  "nbformat": 4,
  "nbformat_minor": 0,
  "metadata": {
    "accelerator": "GPU",
    "colab": {
      "name": "MLI_CW_Brain_Age_Regression_Final.ipynb",
      "provenance": [],
      "collapsed_sections": [],
      "toc_visible": true,
      "include_colab_link": true
    },
    "kernelspec": {
      "display_name": "Python 3",
      "language": "python",
      "name": "python3"
    },
    "language_info": {
      "codemirror_mode": {
        "name": "ipython",
        "version": 3
      },
      "file_extension": ".py",
      "mimetype": "text/x-python",
      "name": "python",
      "nbconvert_exporter": "python",
      "pygments_lexer": "ipython3",
      "version": "3.6.8"
    }
  },
  "cells": [
    {
      "cell_type": "markdown",
      "metadata": {
        "id": "view-in-github",
        "colab_type": "text"
      },
      "source": [
        "<a href=\"https://colab.research.google.com/github/marektopolewski/how-old-is-your-brain/blob/main/brain_age_regression.ipynb\" target=\"_parent\"><img src=\"https://colab.research.google.com/assets/colab-badge.svg\" alt=\"Open In Colab\"/></a>"
      ]
    },
    {
      "cell_type": "markdown",
      "metadata": {
        "id": "7irUsBbia7BJ"
      },
      "source": [
        "# Age regression from brain MRI"
      ]
    },
    {
      "cell_type": "code",
      "metadata": {
        "colab": {
          "base_uri": "https://localhost:8080/"
        },
        "id": "96YrAZVma7BN",
        "outputId": "f4f7dbe1-ede6-4c34-ff74-8654babbd7eb"
      },
      "source": [
        "! pip install SimpleITK==1.2.4 tqdm"
      ],
      "execution_count": 1,
      "outputs": [
        {
          "output_type": "stream",
          "text": [
            "Collecting SimpleITK==1.2.4\n",
            "\u001b[?25l  Downloading https://files.pythonhosted.org/packages/4a/ee/638b6bae2db10e5ef4ca94c95bb29ec25aa37a9d721b47f91077d7e985e0/SimpleITK-1.2.4-cp37-cp37m-manylinux1_x86_64.whl (42.5MB)\n",
            "\u001b[K     |████████████████████████████████| 42.5MB 73kB/s \n",
            "\u001b[?25hRequirement already satisfied: tqdm in /usr/local/lib/python3.7/dist-packages (4.41.1)\n",
            "Installing collected packages: SimpleITK\n",
            "Successfully installed SimpleITK-1.2.4\n"
          ],
          "name": "stdout"
        }
      ]
    },
    {
      "cell_type": "markdown",
      "metadata": {
        "id": "Qo2Kw9dFa7BO"
      },
      "source": [
        "### Downloading the data"
      ]
    },
    {
      "cell_type": "code",
      "metadata": {
        "colab": {
          "base_uri": "https://localhost:8080/"
        },
        "id": "_LNW8j5Ba7BO",
        "outputId": "843b89b3-0b21-4423-d56c-a165ccc3827a"
      },
      "source": [
        "# Data source: Imperial College London, Machine Learning for Imaging Course,\n",
        "# Dr. Ben Glocker and Prof. Daniel Rueckert\n",
        "# https://www.imperial.ac.uk/computing/current-students/courses/70014/\n",
        "\n",
        "! wget https://www.doc.ic.ac.uk/~bglocker/teaching/notebooks/brainage-data.zip\n",
        "! unzip -q brainage-data.zip\n",
        "! rm brainage-data.zip\n",
        "\n",
        "! wget https://www.doc.ic.ac.uk/~bglocker/teaching/notebooks/brainage-testdata.zip\n",
        "! unzip -q brainage-testdata.zip\n",
        "! rm brainage-testdata.zip"
      ],
      "execution_count": 3,
      "outputs": [
        {
          "output_type": "stream",
          "text": [
            "--2021-03-16 15:22:02--  https://www.doc.ic.ac.uk/~bglocker/teaching/notebooks/brainage-data.zip\n",
            "Resolving www.doc.ic.ac.uk (www.doc.ic.ac.uk)... 146.169.13.6\n",
            "Connecting to www.doc.ic.ac.uk (www.doc.ic.ac.uk)|146.169.13.6|:443... connected.\n",
            "HTTP request sent, awaiting response... 200 OK\n",
            "Length: 468654948 (447M) [application/zip]\n",
            "Saving to: ‘brainage-data.zip’\n",
            "\n",
            "brainage-data.zip   100%[===================>] 446.94M  37.4MB/s    in 13s     \n",
            "\n",
            "2021-03-16 15:22:16 (34.9 MB/s) - ‘brainage-data.zip’ saved [468654948/468654948]\n",
            "\n",
            "--2021-03-16 15:22:20--  https://www.doc.ic.ac.uk/~bglocker/teaching/notebooks/brainage-testdata.zip\n",
            "Resolving www.doc.ic.ac.uk (www.doc.ic.ac.uk)... 146.169.13.6\n",
            "Connecting to www.doc.ic.ac.uk (www.doc.ic.ac.uk)|146.169.13.6|:443... connected.\n",
            "HTTP request sent, awaiting response... 200 OK\n",
            "Length: 1521 (1.5K) [application/zip]\n",
            "Saving to: ‘brainage-testdata.zip’\n",
            "\n",
            "brainage-testdata.z 100%[===================>]   1.49K  --.-KB/s    in 0s      \n",
            "\n",
            "2021-03-16 15:22:22 (228 MB/s) - ‘brainage-testdata.zip’ saved [1521/1521]\n",
            "\n"
          ],
          "name": "stdout"
        }
      ]
    },
    {
      "cell_type": "code",
      "metadata": {
        "id": "f3WniK6vhNxQ"
      },
      "source": [
        "# data directory\n",
        "data_dir = 'data/brain_age/'"
      ],
      "execution_count": 4,
      "outputs": []
    },
    {
      "cell_type": "markdown",
      "metadata": {
        "id": "hixehZo7a7Bb"
      },
      "source": [
        "## Age prediction using regression CNNs\n"
      ]
    },
    {
      "cell_type": "markdown",
      "metadata": {
        "id": "MqNENyImAHaX"
      },
      "source": [
        "#### Imports"
      ]
    },
    {
      "cell_type": "code",
      "metadata": {
        "id": "LXnP2eZfAG1n"
      },
      "source": [
        "import os\n",
        "import torch\n",
        "import torch.nn as nn\n",
        "import torch.nn.functional as F\n",
        "from torch.utils.data import Dataset, DataLoader\n",
        "from tqdm import tqdm\n",
        "import numpy as np\n",
        "import pandas as pd\n",
        "from sklearn.metrics import mean_absolute_error, r2_score\n",
        "from sklearn.model_selection import KFold\n",
        "import SimpleITK as sitk\n",
        "\n",
        "%matplotlib inline\n",
        "import matplotlib.pyplot as plt"
      ],
      "execution_count": 5,
      "outputs": []
    },
    {
      "cell_type": "markdown",
      "metadata": {
        "id": "5CKwbsb9_5Nv"
      },
      "source": [
        "#### GPU settings"
      ]
    },
    {
      "cell_type": "code",
      "metadata": {
        "colab": {
          "base_uri": "https://localhost:8080/"
        },
        "id": "S7c4vejM_3_V",
        "outputId": "2c840d3f-77ea-450d-8a3e-4e924c8b4a45"
      },
      "source": [
        "cuda_dev = '0'\n",
        "\n",
        "use_cuda = torch.cuda.is_available()\n",
        "device = torch.device(\"cuda:\" + cuda_dev if use_cuda else \"cpu\")\n",
        "\n",
        "print('Device: ' + str(device))\n",
        "if use_cuda:\n",
        "    print('GPU: ' + str(torch.cuda.get_device_name(int(cuda_dev))))"
      ],
      "execution_count": 6,
      "outputs": [
        {
          "output_type": "stream",
          "text": [
            "Device: cuda:0\n",
            "GPU: Tesla T4\n"
          ],
          "name": "stdout"
        }
      ]
    },
    {
      "cell_type": "markdown",
      "metadata": {
        "id": "9gyEHVMsAhBR"
      },
      "source": [
        "#### Helper methods"
      ]
    },
    {
      "cell_type": "code",
      "metadata": {
        "id": "KLv0hkjRAgVC"
      },
      "source": [
        "# Source: Imperial College London, Machine Learning for Imaging Course,\n",
        "# Dr. Ben Glocker and Prof. Daniel Rueckert\n",
        "# https://www.imperial.ac.uk/computing/current-students/courses/70014/\n",
        "\n",
        "def zero_mean_unit_var(image, mask):\n",
        "    \"\"\"Copied from Task A.\"\"\"\n",
        "    img_array = sitk.GetArrayFromImage(image)\n",
        "    img_array = img_array.astype(np.float32)\n",
        "    msk_array = sitk.GetArrayFromImage(mask)\n",
        "    mean = np.mean(img_array[msk_array>0])\n",
        "    std = np.std(img_array[msk_array>0])\n",
        "    if std > 0:\n",
        "        img_array = (img_array - mean) / std\n",
        "        img_array[msk_array==0] = 0\n",
        "    image_normalised = sitk.GetImageFromArray(img_array)\n",
        "    image_normalised.CopyInformation(image)\n",
        "    return image_normalised\n",
        "  \n",
        "def resample_image(image, out_spacing=(1.0, 1.0, 1.0), out_size=None, is_label=False, pad_value=0):\n",
        "    \"\"\"Resamples an image to given element spacing and output size.\"\"\"\n",
        "\n",
        "    original_spacing = np.array(image.GetSpacing())\n",
        "    original_size = np.array(image.GetSize())\n",
        "\n",
        "    if out_size is None:\n",
        "        out_size = np.round(np.array(original_size * original_spacing / np.array(out_spacing))).astype(int)\n",
        "    else:\n",
        "        out_size = np.array(out_size)\n",
        "\n",
        "    original_direction = np.array(image.GetDirection()).reshape(len(original_spacing),-1)\n",
        "    original_center = (np.array(original_size, dtype=float) - 1.0) / 2.0 * original_spacing\n",
        "    out_center = (np.array(out_size, dtype=float) - 1.0) / 2.0 * np.array(out_spacing)\n",
        "\n",
        "    original_center = np.matmul(original_direction, original_center)\n",
        "    out_center = np.matmul(original_direction, out_center)\n",
        "    out_origin = np.array(image.GetOrigin()) + (original_center - out_center)\n",
        "\n",
        "    resample = sitk.ResampleImageFilter()\n",
        "    resample.SetOutputSpacing(out_spacing)\n",
        "    resample.SetSize(out_size.tolist())\n",
        "    resample.SetOutputDirection(image.GetDirection())\n",
        "    resample.SetOutputOrigin(out_origin.tolist())\n",
        "    resample.SetTransform(sitk.Transform())\n",
        "    resample.SetDefaultPixelValue(pad_value)\n",
        "\n",
        "    if is_label:\n",
        "        resample.SetInterpolator(sitk.sitkNearestNeighbor)\n",
        "    else:\n",
        "        resample.SetInterpolator(sitk.sitkBSpline)\n",
        "\n",
        "    return resample.Execute(image)"
      ],
      "execution_count": 7,
      "outputs": []
    },
    {
      "cell_type": "markdown",
      "metadata": {
        "id": "f72gUaBJ3vr0"
      },
      "source": [
        "#### Dataset"
      ]
    },
    {
      "cell_type": "code",
      "metadata": {
        "id": "J6tjigfB3tTX"
      },
      "source": [
        "class ImageAgeRegressionDataset(Dataset):\n",
        "    \"\"\"Dataset for image age regression.\"\"\"\n",
        "\n",
        "    def __init__(self, file_list_img, file_list_msk, gender_list, age_labels, img_spacing, img_size):\n",
        "        self.samples = np.array([])\n",
        "        self.img_names = np.array([])\n",
        "        for idx, _ in enumerate(tqdm(range(len(file_list_img)), desc='Loading Data')):\n",
        "            img_path = file_list_img[idx]\n",
        "            msk_path = file_list_msk[idx]\n",
        "\n",
        "            img = sitk.ReadImage(img_path, sitk.sitkFloat32)\n",
        "            msk = sitk.ReadImage(msk_path, sitk.sitkUInt8)\n",
        "            gender = gender_list[idx]\n",
        "            age = age_labels[idx]\n",
        "\n",
        "            # pre-processing\n",
        "            img = zero_mean_unit_var(img, msk)\n",
        "            img = resample_image(img, img_spacing, img_size, is_label=False)\n",
        "            msk = resample_image(msk, img_spacing, img_size, is_label=True)\n",
        "\n",
        "            sample = {'img': img, 'msk': msk, 'gender': gender, 'age': age}\n",
        "\n",
        "            self.samples = np.append(self.samples, sample)\n",
        "            self.img_names = np.append(self.img_names, os.path.basename(img_path))\n",
        "\n",
        "    def __len__(self):\n",
        "        return len(self.samples)\n",
        "\n",
        "    def __getitem__(self, item):\n",
        "        sample = self.samples[item]\n",
        "\n",
        "        img = torch.from_numpy(sitk.GetArrayFromImage(sample['img'])).unsqueeze(0)\n",
        "        msk = torch.from_numpy(sitk.GetArrayFromImage(sample['msk'])).unsqueeze(0)\n",
        "        gender = torch.FloatTensor([sample['gender']])\n",
        "        age = torch.FloatTensor([sample['age']])\n",
        "\n",
        "        return {'img': img, 'msk': msk, 'gender': gender, 'age': age}\n",
        "\n",
        "    def get_sample(self, item):\n",
        "        return self.samples[item]\n",
        "\n",
        "    def get_img_name(self, item):\n",
        "        return self.img_names[item]"
      ],
      "execution_count": 8,
      "outputs": []
    },
    {
      "cell_type": "markdown",
      "metadata": {
        "id": "d-TlWDQRAUyw"
      },
      "source": [
        "#### Hyper-params"
      ]
    },
    {
      "cell_type": "code",
      "metadata": {
        "id": "8BP5CHYEAUNW"
      },
      "source": [
        "rnd_seed = 42 # fixed random seed\n",
        "\n",
        "img_size = [96, 96, 96]\n",
        "img_spacing = [1, 1, 1]\n",
        "\n",
        "num_epochs = 30\n",
        "learning_rate = 0.001\n",
        "batch_size = 2\n",
        "loss_fn = nn.L1Loss(reduction='sum')\n",
        "\n",
        "val_interval = 5\n",
        "\n",
        "out_dir = './output_b'\n",
        "data_dir = 'data/brain_age/'\n",
        "\n",
        "# Create output directory\n",
        "if not os.path.exists(out_dir):\n",
        "    os.makedirs(out_dir)"
      ],
      "execution_count": 9,
      "outputs": []
    },
    {
      "cell_type": "markdown",
      "metadata": {
        "id": "LNrmRnBI-6lx"
      },
      "source": [
        "#### Model"
      ]
    },
    {
      "cell_type": "code",
      "metadata": {
        "id": "XSLhm8SLtwH1"
      },
      "source": [
        "class BlehBlock(nn.Module):\n",
        "  \"\"\"\n",
        "  A custom network (bLEhNET) block.\n",
        "  \"\"\"\n",
        "  def __init__(self, num_blocks):\n",
        "    super(BlehBlock, self).__init__()\n",
        "    blocks = []\n",
        "    for i in range(1, num_blocks + 1):\n",
        "        blocks += [ nn.Conv3d(2**(i+2), 2**(i+3), kernel_size=3, stride=1, padding=1),\n",
        "                    nn.ReLU(True),\n",
        "                    nn.BatchNorm3d(2**(i+3)),\n",
        "                    nn.MaxPool3d(2) ]\n",
        "    self.main = nn.Sequential(*blocks)\n",
        "  \n",
        "  def forward(self, x):\n",
        "    return self.main(x)\n",
        "\n",
        "class VGGBlock(nn.Module):\n",
        "  \"\"\"\n",
        "  A single VGG network block.\n",
        "  \"\"\"\n",
        "  def __init__(self, in_fm, out_fm, num_convs=1):\n",
        "    super(VGGBlock, self).__init__()\n",
        "    convs = []\n",
        "    curr_fm = in_fm\n",
        "    for i in range(num_convs - 1):\n",
        "      convs += [ nn.Conv3d(curr_fm, out_fm, kernel_size=3, stride=1, padding=1),\n",
        "                 nn.ReLU(True) ]\n",
        "      curr_fm = out_fm\n",
        "    self.main = nn.Sequential(\n",
        "        *convs,\n",
        "        nn.Conv3d(curr_fm, out_fm, kernel_size=3, stride=1, padding=1),\n",
        "        nn.BatchNorm3d(out_fm),\n",
        "        nn.ReLU(True),\n",
        "        nn.MaxPool3d(2)\n",
        "    )\n",
        "  \n",
        "  def forward(self, x):\n",
        "    return self.main(x)\n",
        "\n",
        "class ResidualBlock(nn.Module):\n",
        "  \"\"\"\n",
        "  A signle ResNet block with a given number of input (in_fm) and output (out_fm) feature maps.\n",
        "  If the bloack perfroms downsampling then modify the skip connection using convolutions to match\n",
        "  the output channel dimensions.\n",
        "\n",
        "  References:\n",
        "  [1] B. Kainz, \"Imperial College London: Deep Learning Courswork 1\",\n",
        "      https://colab.research.google.com/drive/151W_XEOCcwtO761NJibJKuhoGp1jb9C6?usp=sharing\n",
        "  [2] PyTorch, \"Datasets, Transforms and Models specific to Computer Vision\",\n",
        "      https://github.com/pytorch/vision/blob/master/torchvision/models/resnet.py\n",
        "  \"\"\"\n",
        "  def __init__(self, in_fm, out_fm, stride=1):\n",
        "    super(ResidualBlock, self).__init__()\n",
        "    self.main = nn.Sequential(\n",
        "        nn.Conv3d(in_fm, out_fm, kernel_size=3, stride=stride, padding=1, bias=False),\n",
        "        nn.BatchNorm3d(out_fm),\n",
        "        nn.ReLU(True),\n",
        "        nn.Conv3d(out_fm, out_fm, kernel_size=3, stride=1, padding=1, bias=False),\n",
        "        nn.BatchNorm3d(out_fm)\n",
        "    )\n",
        "    self.shortcut = nn.Sequential()\n",
        "\n",
        "    if stride != 1 or in_fm != out_fm:\n",
        "      self.shortcut = nn.Sequential(\n",
        "          nn.Conv3d(in_fm, out_fm, kernel_size=1, stride=stride, padding=0, bias=False),\n",
        "          nn.BatchNorm3d(out_fm)\n",
        "      )\n",
        "\n",
        "  def forward(self, x): \n",
        "    out = self.main(x) + self.shortcut(x)\n",
        "    out = F.relu(out) \n",
        "    return out\n",
        "\n",
        "class ResidualBottleneck(nn.Module):\n",
        "  \"\"\"\n",
        "  A signle ResNet bottleneck block, similar to ResidualBlock but this class utilises 1x1\n",
        "  convolutions and is applicable to larger ResNets (50, 101, 152).\n",
        "\n",
        "  References:\n",
        "  [1] PyTorch, \"Datasets, Transforms and Models specific to Computer Vision\",\n",
        "      https://github.com/pytorch/vision/blob/master/torchvision/models/resnet.py\n",
        "  \"\"\"\n",
        "  def __init__(self, in_fm, out_fm, stride=1):\n",
        "    super(ResidualBottleneck, self).__init__()\n",
        "    exp = 4\n",
        "    self.main = nn.Sequential(\n",
        "        nn.Conv3d(in_fm, out_fm, kernel_size=1, stride=1, padding=0, bias=False),\n",
        "        nn.BatchNorm3d(out_fm),\n",
        "        nn.ReLU(True),\n",
        "        nn.Conv3d(out_fm, out_fm, kernel_size=3, stride=stride, padding=1, bias=False),\n",
        "        nn.BatchNorm3d(out_fm),\n",
        "        nn.ReLU(True),\n",
        "        nn.Conv3d(out_fm, out_fm * exp, kernel_size=1, stride=1, padding=0, bias=False),\n",
        "        nn.BatchNorm3d(out_fm * exp)\n",
        "    )\n",
        "    self.shortcut = nn.Sequential()\n",
        "\n",
        "    if stride != 1 or in_fm != out_fm * exp:\n",
        "      self.shortcut = nn.Sequential(\n",
        "          nn.Conv3d(in_fm, out_fm * exp, kernel_size=1, stride=stride, padding=0, bias=False),\n",
        "          nn.BatchNorm3d(out_fm * exp)\n",
        "      )\n",
        "    \n",
        "  def forward(self, x):\n",
        "    out = self.main(x)\n",
        "    out += self.shortcut(x)\n",
        "    out = F.relu(out) \n",
        "    return out\n",
        "\n",
        "\n",
        "def make_blocks(cls, in_fm, out_fm, num_blocks, stride, exp):\n",
        "  \"\"\"Factory method for making multiple residual blocks\"\"\"\n",
        "  strides = [stride] + [1] * (num_blocks - 1)\n",
        "  blocks = nn.Sequential()\n",
        "  curr_fm = in_fm\n",
        "  for i, stride in enumerate(strides):\n",
        "    blocks.add_module(f\"block{i}_{in_fm}-{out_fm}\", cls(curr_fm, out_fm, stride))\n",
        "    curr_fm = out_fm * exp\n",
        "  return blocks"
      ],
      "execution_count": 10,
      "outputs": []
    },
    {
      "cell_type": "code",
      "metadata": {
        "id": "YCqnLsJXa7Bb"
      },
      "source": [
        "class AgeRegressorNet(nn.Module):\n",
        "\n",
        "  def __init__(self, arch='none', h_dim=256, base_dim=64):\n",
        "    super(AgeRegressorNet, self).__init__()\n",
        "\n",
        "    self.arch = arch\n",
        "    self.h_dim = h_dim\n",
        "    self.base_dim = base_dim\n",
        "\n",
        "    if 'blehnet' in arch:\n",
        "      num_blocks = 5\n",
        "      flat_size = (np.array(img_size) // 2**num_blocks).prod()\n",
        "      self.net = nn.Sequential(\n",
        "          nn.Conv3d(1, 8, kernel_size=3, stride=1, padding=1),\n",
        "          BlehBlock(num_blocks),\n",
        "          nn.Flatten(),\n",
        "          nn.Linear(2**(num_blocks+3) * flat_size, self.h_dim),\n",
        "          nn.ReLU(True)\n",
        "      )\n",
        "      self.fc = nn.Linear(self.h_dim + 1, 1)\n",
        "\n",
        "    elif 'vgg' in arch:\n",
        "      vgg_configs = {\n",
        "          \"11\": [1, 1, 2, 2, 2],\n",
        "          \"13\": [2, 2, 2, 2, 2],\n",
        "          \"16\": [2, 2, 3, 3, 3],\n",
        "      }\n",
        "      vgg_arch = arch.split('-')[1]\n",
        "      if vgg_arch not in vgg_configs.keys():\n",
        "        raise Exception(f'Architecture {arch} not defined.')\n",
        "      dim = self.base_dim\n",
        "      num_convs = vgg_configs[vgg_arch]\n",
        "      self.net = nn.Sequential(\n",
        "        VGGBlock(      1, dim *  1, num_convs[0]),\n",
        "        VGGBlock(dim * 1, dim *  2, num_convs[1]),\n",
        "        VGGBlock(dim * 2, dim *  4, num_convs[2]),\n",
        "        VGGBlock(dim * 4, dim *  8, num_convs[3]),\n",
        "        VGGBlock(dim * 8, dim * 16, num_convs[4]),\n",
        "        nn.AdaptiveMaxPool3d((1, 1, 1)),\n",
        "        nn.Flatten(),\n",
        "        nn.Linear(dim * 16, 1),\n",
        "      )\n",
        "      # self.out_dim = dim * 16\n",
        "\n",
        "    elif 'resnet' in arch:\n",
        "      resnet_configs = {\n",
        "          \"152\": ([3, 8, 36, 3], ResidualBottleneck, 4),\n",
        "          \"101\": ([3, 4, 23, 3], ResidualBottleneck, 4),\n",
        "          \"50\":  ([3, 4, 6, 3],  ResidualBottleneck, 4),\n",
        "          \"34\":  ([3, 4, 6, 3],  ResidualBlock,      1),\n",
        "          \"0\":   ([2, 2, 2, 2],  ResidualBlock,      1)\n",
        "      }\n",
        "      resnet_arch = arch.split('-')[1]\n",
        "      if resnet_arch not in resnet_configs.keys():\n",
        "        raise Exception(f'Architecture {arch} not defined.')\n",
        "      dim = self.base_dim\n",
        "      num_blocks, block, exp = resnet_configs[resnet_arch]\n",
        "      self.net = nn.Sequential(\n",
        "          make_blocks(block,             1, dim * 1, num_blocks[0], 1, exp),\n",
        "          make_blocks(block, dim * 1 * exp, dim * 2, num_blocks[1], 2, exp),\n",
        "          make_blocks(block, dim * 2 * exp, dim * 4, num_blocks[2], 2, exp),\n",
        "          make_blocks(block, dim * 4 * exp, dim * 8, num_blocks[3], 2, exp),\n",
        "          nn.AdaptiveMaxPool3d((1, 1, 1)),\n",
        "          nn.Flatten(),\n",
        "          nn.Linear(dim * 8 * exp, 1),\n",
        "      )\n",
        "      # self.out_dim = dim * 8 * exp\n",
        "    \n",
        "    else:\n",
        "      raise Exception(f'Architecture {arch} not defined.')\n",
        "  \n",
        "  def forward(self, x, z=None):\n",
        "    out = self.net(x)\n",
        "    if self.arch == 'blehnet':\n",
        "      out = torch.cat([out, z], -1)\n",
        "      out = self.fc(out)\n",
        "    return out.squeeze(-1)\n",
        "  \n",
        "  def count_params(self):\n",
        "    return sum(p.numel() for p in self.parameters() if p.requires_grad)"
      ],
      "execution_count": 11,
      "outputs": []
    },
    {
      "cell_type": "markdown",
      "metadata": {
        "id": "YybX8cN2bny9"
      },
      "source": [
        "#### Training and evaluation functions"
      ]
    },
    {
      "cell_type": "code",
      "metadata": {
        "id": "zEPq8K26bw-R"
      },
      "source": [
        "def train(model, optimizer, train_loader):\r\n",
        "    loss_train = 0\r\n",
        "    for batch_samples in train_loader:\r\n",
        "        img, gender = batch_samples['img'].to(device), batch_samples['gender'].to(device)\r\n",
        "        age = batch_samples['age'].to(device)\r\n",
        "        optimizer.zero_grad()\r\n",
        "        prd = model(img, gender)\r\n",
        "        loss = loss_fn(prd, age.squeeze(1))\r\n",
        "        loss.backward()\r\n",
        "        optimizer.step()\r\n",
        "        loss_train += loss.item()\r\n",
        "    return loss_train / len(train_loader)\r\n",
        "\r\n",
        "def validate(model, valid_loader):\r\n",
        "  loss_val = 0\r\n",
        "  with torch.no_grad():\r\n",
        "      for batch_samples in valid_loader:\r\n",
        "          img, gender = batch_samples['img'].to(device), batch_samples['gender'].to(device)\r\n",
        "          age = batch_samples['age'].to(device)\r\n",
        "          prd = model(img, gender)\r\n",
        "          loss_val += loss_fn(prd, age.squeeze(1)).item()\r\n",
        "      return loss_val / len(valid_loader)\r\n",
        "\r\n",
        "def evaluate(model, valid_loader):\r\n",
        "  y_actual = y_predicted = torch.LongTensor([])\r\n",
        "  with torch.no_grad():\r\n",
        "      for batch_samples in valid_loader:\r\n",
        "          img, gender = batch_samples['img'].to(device), batch_samples['gender'].to(device)\r\n",
        "          age = batch_samples['age'].to(device)\r\n",
        "          y_actual = torch.cat([y_actual, age.cpu()])\r\n",
        "          prd = model(img, gender)\r\n",
        "          y_predicted = torch.cat([y_predicted, prd.cpu()], dim=-1)\r\n",
        "      y_actual = y_actual.numpy()\r\n",
        "      y_predicted = y_predicted.numpy()\r\n",
        "      mae = mean_absolute_error(y_actual, y_predicted)\r\n",
        "      r2score = r2_score(y_actual, y_predicted)\r\n",
        "      return mae, r2score, y_actual, y_predicted"
      ],
      "execution_count": 12,
      "outputs": []
    },
    {
      "cell_type": "markdown",
      "metadata": {
        "id": "3Q2cdFdCCN1N"
      },
      "source": [
        "#### Data preprocessing"
      ]
    },
    {
      "cell_type": "code",
      "metadata": {
        "id": "NoFA51py7Hl4",
        "outputId": "c9faeb30-cbf1-41ad-afeb-6e57c56948f1",
        "colab": {
          "base_uri": "https://localhost:8080/"
        }
      },
      "source": [
        "def make_loader(path, batch_size, shuffle):\r\n",
        "  meta_data = pd.read_csv(data_dir + path)\r\n",
        "  ids = list(meta_data['subject_id'])\r\n",
        "  files_img = [data_dir + 'images/sub-' + f + '_T1w_unbiased.nii.gz'   for f in ids]\r\n",
        "  files_msk = [data_dir + 'masks/sub-'  + f + '_T1w_brain_mask.nii.gz' for f in ids]\r\n",
        "  genders = meta_data['gender_code']\r\n",
        "  age_labels = meta_data['age']\r\n",
        "  dataset = ImageAgeRegressionDataset(files_img, files_msk, genders, age_labels, img_spacing, img_size)\r\n",
        "  loader = DataLoader(dataset, batch_size=batch_size, shuffle=shuffle)\r\n",
        "  return loader, dataset\r\n",
        "\r\n",
        "dataloader_train, train_data = make_loader('meta/meta_data_regression_train.csv', batch_size, shuffle=True)\r\n",
        "dataloader_valid, valid_data = make_loader('meta/meta_data_segmentation_train.csv', batch_size=1, shuffle=False)\r\n",
        "dataloader_test, test_data = make_loader('meta/meta_data_regression_test.csv' , batch_size=1, shuffle=False)"
      ],
      "execution_count": 13,
      "outputs": [
        {
          "output_type": "stream",
          "text": [
            "Loading Data: 100%|██████████| 500/500 [02:55<00:00,  2.84it/s]\n",
            "Loading Data: 100%|██████████| 47/47 [00:16<00:00,  2.85it/s]\n",
            "Loading Data: 100%|██████████| 100/100 [00:35<00:00,  2.84it/s]\n"
          ],
          "name": "stderr"
        }
      ]
    },
    {
      "cell_type": "markdown",
      "metadata": {
        "id": "qzjIkLm32dW6"
      },
      "source": [
        "#### Model selelction: 2-fold CV"
      ]
    },
    {
      "cell_type": "code",
      "metadata": {
        "id": "iqLmj2r12hnI"
      },
      "source": [
        "kf = KFold(n_splits=2, shuffle=True, random_state=42)\r\n",
        "cv_epochs = 10\r\n",
        "\r\n",
        "# Perform 2-fold CV for the listed models\r\n",
        "for arch in ['vgg-11', 'blehnet']:\r\n",
        "    r2scores, maes = 0, 0\r\n",
        "    for train_idx, valid_idx in kf.split(train_data):\r\n",
        "        # Split data\r\n",
        "        train_subsampler = torch.utils.data.SubsetRandomSampler(train_idx)\r\n",
        "        valid_subsampler = torch.utils.data.SubsetRandomSampler(valid_idx)\r\n",
        "        train_split_loader = DataLoader(train_data, batch_size=batch_size, sampler=train_subsampler)\r\n",
        "        valid_split_loader = DataLoader(train_data, batch_size=batch_size, sampler=valid_subsampler)\r\n",
        "\r\n",
        "        # Define model\r\n",
        "        model = AgeRegressorNet(arch).to(device)\r\n",
        "        optimizer = torch.optim.AdamW(model.parameters(), lr=learning_rate)\r\n",
        "        model.train()\r\n",
        "        \r\n",
        "        # Train and evaluate model\r\n",
        "        for epoch in range(1, cv_epochs + 1):\r\n",
        "            train(model, optimizer, train_split_loader)\r\n",
        "        mae, r2, _, _ = evaluate(model, valid_split_loader)\r\n",
        "        r2scores += r2\r\n",
        "        maes += mae\r\n",
        "    print('2-fold CV average for {}:\\t MAE={} R2={}'.format(arch, maes/2, r2scores/2))"
      ],
      "execution_count": null,
      "outputs": []
    },
    {
      "cell_type": "markdown",
      "metadata": {
        "id": "FSE2oObT--ZP"
      },
      "source": [
        "#### Final model training"
      ]
    },
    {
      "cell_type": "code",
      "metadata": {
        "colab": {
          "base_uri": "https://localhost:8080/",
          "height": 976
        },
        "id": "JIYI1DQE_B-U",
        "outputId": "4e768bc7-0c3a-4dd2-d361-1dd7d9ed0ac9"
      },
      "source": [
        "model_dir = os.path.join(out_dir, 'model')\n",
        "if not os.path.exists(model_dir):\n",
        "    os.makedirs(model_dir)\n",
        "\n",
        "torch.manual_seed(rnd_seed) #fix random seed\n",
        "\n",
        "models = ['blehnet',\n",
        "          'vgg-11', 'vgg-13', 'vgg-16',\n",
        "          'resnet-0', 'resnet-34', 'resnet-50', 'resnet-101', 'resnet-152']\n",
        "arch = 'blehnet'\n",
        "model = AgeRegressorNet(arch).to(device)\n",
        "model.train()\n",
        "print('Model {}, number of parameters: {}'.format(arch, model.count_params()))\n",
        "\n",
        "optimizer = torch.optim.AdamW(model.parameters(), lr=learning_rate)\n",
        "\n",
        "loss_train_log = []\n",
        "loss_val_log = [] \n",
        "epoch_val_log = []\n",
        "\n",
        "print('START TRAINING...')\n",
        "for epoch in range(1, num_epochs + 1):\n",
        "\n",
        "    # Training\n",
        "    loss_train = train(model, optimizer, dataloader_train)\n",
        "    loss_train_log.append(loss_train)\n",
        "    print('\\t\\tEpoch: {} \\tLoss: {:.6f}'.format(epoch, loss_train))\n",
        "    \n",
        "    # Validation\n",
        "    if epoch == 1 or epoch % val_interval == 0:\n",
        "        loss_val = validate(model, dataloader_valid)\n",
        "        loss_val_log.append(loss_val)\n",
        "        epoch_val_log.append(epoch)\n",
        "        print('+ VALIDATE \\tEpoch: {} \\tLoss: {:.6f}'.format(epoch, loss_val))\n",
        "\n",
        "torch.save(model.state_dict(), os.path.join(model_dir, 'model.pt'))\n",
        "print('\\nFinished TRAINING.')\n",
        "\n",
        "plt.plot(range(1, num_epochs + 1), loss_train_log, c='r', label='train')\n",
        "plt.plot(epoch_val_log, loss_val_log, c='b', label='val')\n",
        "plt.legend(loc='upper right')\n",
        "plt.xlabel('epoch')\n",
        "plt.ylabel('loss')\n",
        "plt.show()"
      ],
      "execution_count": 15,
      "outputs": [
        {
          "output_type": "stream",
          "text": [
            "Model blehnet, number of parameters: 2950194\n",
            "START TRAINING...\n",
            "\t\tEpoch: 1 \tLoss: 28.202224\n",
            "+ VALIDATE \tEpoch: 1 \tLoss: 14.480916\n",
            "\t\tEpoch: 2 \tLoss: 22.273530\n",
            "\t\tEpoch: 3 \tLoss: 17.059325\n",
            "\t\tEpoch: 4 \tLoss: 16.634732\n",
            "\t\tEpoch: 5 \tLoss: 16.059474\n",
            "+ VALIDATE \tEpoch: 5 \tLoss: 7.950949\n",
            "\t\tEpoch: 6 \tLoss: 14.029313\n",
            "\t\tEpoch: 7 \tLoss: 14.417980\n",
            "\t\tEpoch: 8 \tLoss: 13.621278\n",
            "\t\tEpoch: 9 \tLoss: 13.504710\n",
            "\t\tEpoch: 10 \tLoss: 13.099940\n",
            "+ VALIDATE \tEpoch: 10 \tLoss: 6.260930\n",
            "\t\tEpoch: 11 \tLoss: 12.649396\n",
            "\t\tEpoch: 12 \tLoss: 12.989333\n",
            "\t\tEpoch: 13 \tLoss: 12.470894\n",
            "\t\tEpoch: 14 \tLoss: 10.942697\n",
            "\t\tEpoch: 15 \tLoss: 12.297475\n",
            "+ VALIDATE \tEpoch: 15 \tLoss: 7.362248\n",
            "\t\tEpoch: 16 \tLoss: 10.954887\n",
            "\t\tEpoch: 17 \tLoss: 10.568453\n",
            "\t\tEpoch: 18 \tLoss: 10.295166\n",
            "\t\tEpoch: 19 \tLoss: 9.921709\n",
            "\t\tEpoch: 20 \tLoss: 9.372486\n",
            "+ VALIDATE \tEpoch: 20 \tLoss: 5.907925\n",
            "\t\tEpoch: 21 \tLoss: 8.420857\n",
            "\t\tEpoch: 22 \tLoss: 9.611260\n",
            "\t\tEpoch: 23 \tLoss: 8.111601\n",
            "\t\tEpoch: 24 \tLoss: 8.344716\n",
            "\t\tEpoch: 25 \tLoss: 7.341133\n",
            "+ VALIDATE \tEpoch: 25 \tLoss: 6.179335\n",
            "\t\tEpoch: 26 \tLoss: 7.142243\n",
            "\t\tEpoch: 27 \tLoss: 7.168735\n",
            "\t\tEpoch: 28 \tLoss: 7.076509\n",
            "\t\tEpoch: 29 \tLoss: 7.253619\n",
            "\t\tEpoch: 30 \tLoss: 6.882443\n",
            "+ VALIDATE \tEpoch: 30 \tLoss: 5.332607\n",
            "\n",
            "Finished TRAINING.\n"
          ],
          "name": "stdout"
        },
        {
          "output_type": "display_data",
          "data": {
            "image/png": "[encoded data removed]",
            "text/plain": [
              "<Figure size 432x288 with 1 Axes>"
            ]
          },
          "metadata": {
            "tags": [],
            "needs_background": "light"
          }
        }
      ]
    },
    {
      "cell_type": "markdown",
      "metadata": {
        "id": "NP-znJswffxz"
      },
      "source": [
        "#### Testing"
      ]
    },
    {
      "cell_type": "code",
      "metadata": {
        "colab": {
          "base_uri": "https://localhost:8080/",
          "height": 385
        },
        "id": "EA64ERVKfhHa",
        "outputId": "a096368f-a141-491b-bbe9-98911c74fe32"
      },
      "source": [
        "model_dir = os.path.join(out_dir, 'model')\n",
        "assert(os.path.exists(model_dir))\n",
        "\n",
        "arch = 'blehnet'\n",
        "model = AgeRegressorNet(arch)\n",
        "model.load_state_dict(torch.load(os.path.join(model_dir, 'model.pt')))\n",
        "model.to(device)\n",
        "model.eval()\n",
        "\n",
        "print('Starting TESTING.')\n",
        "mae, r2score, y_actual, y_predicted = evaluate(model, dataloader_test)\n",
        "print('MAE: {0}'.format(mae))\n",
        "print('R2 : {0}'.format(r2score))\n",
        "\n",
        "fig, ax = plt.subplots()\n",
        "ax.title.set_text('Predicted vs true ages')\n",
        "ax.scatter(y_actual, y_predicted, marker='.')\n",
        "ax.plot([y_predicted.min(), y_predicted.max()], [y_actual.min(), y_actual.max()], 'k--', lw=2)\n",
        "ax.set_xlabel('Real Age')\n",
        "ax.set_ylabel('Predicted Age')\n",
        "plt.show()\n",
        "print('\\nFinished TESTING.')"
      ],
      "execution_count": null,
      "outputs": [
        {
          "output_type": "stream",
          "text": [
            "Starting TESTING.\n",
            "MAE: 5.18281364440918\n",
            "R2 : 0.8845449567005238\n"
          ],
          "name": "stdout"
        },
        {
          "output_type": "display_data",
          "data": {
            "image/png": "[encoded data removed]",
            "text/plain": [
              "<Figure size 432x288 with 1 Axes>"
            ]
          },
          "metadata": {
            "tags": [],
            "needs_background": "light"
          }
        },
        {
          "output_type": "stream",
          "text": [
            "\n",
            "Finished TESTING.\n"
          ],
          "name": "stdout"
        }
      ]
    },
    {
      "cell_type": "code",
      "metadata": {
        "id": "f6yhkJEPZTYm"
      },
      "source": [
        ""
      ],
      "execution_count": null,
      "outputs": []
    }
  ]
}